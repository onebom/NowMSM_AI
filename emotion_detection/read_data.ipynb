{
  "nbformat": 4,
  "nbformat_minor": 0,
  "metadata": {
    "colab": {
      "provenance": [],
      "authorship_tag": "ABX9TyPuIH4Pjg2DAPsDAibtrES9",
      "include_colab_link": true
    },
    "kernelspec": {
      "name": "python3",
      "display_name": "Python 3"
    },
    "language_info": {
      "name": "python"
    }
  },
  "cells": [
    {
      "cell_type": "markdown",
      "metadata": {
        "id": "view-in-github",
        "colab_type": "text"
      },
      "source": [
        "<a href=\"https://colab.research.google.com/github/onebom/NowMSM_AI/blob/main/read_data.ipynb\" target=\"_parent\"><img src=\"https://colab.research.google.com/assets/colab-badge.svg\" alt=\"Open In Colab\"/></a>"
      ]
    },
    {
      "cell_type": "code",
      "execution_count": 6,
      "metadata": {
        "id": "_pZBuJAIw98d"
      },
      "outputs": [],
      "source": [
        "import tensorflow as tf\n",
        "from glob import glob\n",
        "import matplotlib.pyplot as plt\n",
        "\n",
        "import pandas as pd\n",
        "import numpy as np\n",
        "from PIL import Image\n",
        "import os\n",
        "import pickle"
      ]
    },
    {
      "cell_type": "code",
      "source": [
        "from google.colab import drive\n",
        "drive.mount('/content/gdrive')"
      ],
      "metadata": {
        "colab": {
          "base_uri": "https://localhost:8080/"
        },
        "id": "MoBtHJQqxJPs",
        "outputId": "4ce644cd-ce18-4969-c3db-b96f259b22bf"
      },
      "execution_count": 5,
      "outputs": [
        {
          "output_type": "stream",
          "name": "stdout",
          "text": [
            "Mounted at /content/gdrive\n"
          ]
        }
      ]
    },
    {
      "cell_type": "code",
      "source": [
        "%cd /content/gdrive/MyDrive/NowMSM/\n",
        "!unzip archive.zip"
      ],
      "metadata": {
        "colab": {
          "base_uri": "https://localhost:8080/"
        },
        "id": "IjFPrSHzxTup",
        "outputId": "a5739b45-4575-4748-f2b6-7cba2ac2e1a8"
      },
      "execution_count": 8,
      "outputs": [
        {
          "output_type": "stream",
          "name": "stdout",
          "text": [
            "/content/gdrive/MyDrive/NowMSM\n"
          ]
        }
      ]
    },
    {
      "cell_type": "code",
      "source": [
        "def read_data(image_dir):\n",
        "    image_paths = np.sort(np.array(glob(image_dir)))\n",
        "    print(image_paths[:3])\n",
        "    images = np.array([np.asarray(Image.open(i)) for i in image_paths])\n",
        "    print(\"image change Done...\")\n",
        "    labels = np.array([i.split('/')[-2] for i in image_paths])\n",
        "    print(\"label change Done...\")\n",
        "    \n",
        "    for i in range(3):\n",
        "      print(\"path: \", image_paths[i])\n",
        "      print(\"labels: \", labels[i])\n",
        "      plt.imshow(images[i])\n",
        "\n",
        "    labels = labels['emotion'].to_numpy()\n",
        "\n",
        "    return images, labels\n",
        "     "
      ],
      "metadata": {
        "id": "TJifz-gSycvx"
      },
      "execution_count": 52,
      "outputs": []
    },
    {
      "cell_type": "code",
      "source": [
        "train_image_dir = 'images/train/*/*.jpg'\n",
        "test_image_dir = 'images/validation/*/*.jpg'\n",
        "\n",
        "train_images, train_labels = read_data(train_image_dir)\n",
        "test_images, test_labels = read_data(test_image_dir)\n",
        "\n",
        "# print('train samples:', train_images.shape[0])\n",
        "# print('test samples:', test_images.shape[0])"
      ],
      "metadata": {
        "colab": {
          "base_uri": "https://localhost:8080/"
        },
        "id": "yVZLK7Z9ypYw",
        "outputId": "f2ee8a30-f38e-459f-e179-774afe4a0f08"
      },
      "execution_count": null,
      "outputs": [
        {
          "output_type": "stream",
          "name": "stdout",
          "text": [
            "['images/train/angry/0.jpg' 'images/train/angry/1.jpg'\n",
            " 'images/train/angry/10.jpg']\n"
          ]
        }
      ]
    },
    {
      "cell_type": "code",
      "source": [
        "def save_data(data_file, x_data, y_data):\n",
        "  if not os.path.isfile(data_file):\n",
        "    print('Saving data to pickle file...')\n",
        "    try:\n",
        "      with open(data_file, 'wb') as pfile:\n",
        "        pickle.dump(\n",
        "            {'x_data': x_data,\n",
        "             'y_data': y_data},\n",
        "             pfile,\n",
        "             pickle.HIGHEST_PROTOCOL\n",
        "        )\n",
        "    except Exception as e:\n",
        "      print('Unable to save data to', data_file, ':', e)\n",
        "      raise\n",
        "    print('Data cached in pickle file.')"
      ],
      "metadata": {
        "id": "Gi_Vzyv35KTK"
      },
      "execution_count": null,
      "outputs": []
    },
    {
      "cell_type": "code",
      "source": [
        "save_data('train_data.p', train_images, train_labels)\n",
        "save_data('test_data.p', test_images, test_labels)\n"
      ],
      "metadata": {
        "id": "eGl-05mB5I5r"
      },
      "execution_count": null,
      "outputs": []
    }
  ]
}